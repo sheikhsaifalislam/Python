{
 "cells": [
  {
   "cell_type": "markdown",
   "id": "d16771f7",
   "metadata": {},
   "source": [
    "## Today we are going to dig out collections module in python. Collections module implement special container  data types and provides alternative with some additional funtionality compared to general building containers like dictionaries, list, tuples. So we will be try to do some code from five different types from the collection module. \n",
    "\n",
    "### Collections: Counter, namedtuple, orderedDict, defaultdict, deque"
   ]
  },
  {
   "cell_type": "markdown",
   "id": "6e2ffff3",
   "metadata": {},
   "source": [
    "### * A counter is a container that stores the elements as dictionary keys in their counts as dictionaries values. "
   ]
  },
  {
   "cell_type": "code",
   "execution_count": 1,
   "id": "fded380f",
   "metadata": {},
   "outputs": [
    {
     "name": "stdout",
     "output_type": "stream",
     "text": [
      "Counter({'a': 6, 'b': 4, 'c': 3})\n"
     ]
    }
   ],
   "source": [
    "from collections import Counter\n",
    "a = \"aaaaaabbbbccc\"\n",
    "mycounter = Counter(a)\n",
    "print(mycounter)"
   ]
  },
  {
   "cell_type": "code",
   "execution_count": 2,
   "id": "f301edbf",
   "metadata": {},
   "outputs": [
    {
     "name": "stdout",
     "output_type": "stream",
     "text": [
      "dict_items([('a', 6), ('b', 4), ('c', 3)])\n"
     ]
    }
   ],
   "source": [
    "from collections import Counter\n",
    "a = \"aaaaaabbbbccc\"\n",
    "mycounter = Counter(a)\n",
    "print(mycounter.items())"
   ]
  },
  {
   "cell_type": "code",
   "execution_count": 3,
   "id": "eb450e84",
   "metadata": {},
   "outputs": [
    {
     "name": "stdout",
     "output_type": "stream",
     "text": [
      "dict_keys(['a', 'b', 'c'])\n"
     ]
    }
   ],
   "source": [
    "from collections import Counter\n",
    "a = \"aaaaaabbbbccc\"\n",
    "mycounter = Counter(a)\n",
    "print(mycounter.keys())"
   ]
  },
  {
   "cell_type": "code",
   "execution_count": 4,
   "id": "1bf7fcf6",
   "metadata": {},
   "outputs": [
    {
     "name": "stdout",
     "output_type": "stream",
     "text": [
      "dict_values([6, 4, 3])\n"
     ]
    }
   ],
   "source": [
    "from collections import Counter\n",
    "a = \"aaaaaabbbbccc\"\n",
    "mycounter = Counter(a)\n",
    "print(mycounter.values())"
   ]
  },
  {
   "cell_type": "code",
   "execution_count": 6,
   "id": "4e2dc38f",
   "metadata": {},
   "outputs": [
    {
     "name": "stdout",
     "output_type": "stream",
     "text": [
      "Counter({'a': 6, 'b': 4, 'c': 3})\n",
      "[('a', 6)]\n"
     ]
    }
   ],
   "source": [
    "# If we want to know about the one most common elements\n",
    "\n",
    "from collections import Counter\n",
    "a = \"aaaaaabbbbccc\"\n",
    "mycounter = Counter(a)\n",
    "print(mycounter)\n",
    "print(mycounter.most_common(1))"
   ]
  },
  {
   "cell_type": "code",
   "execution_count": 7,
   "id": "cac7d792",
   "metadata": {},
   "outputs": [
    {
     "name": "stdout",
     "output_type": "stream",
     "text": [
      "Counter({'a': 6, 'b': 4, 'c': 3})\n",
      "[('a', 6), ('b', 4)]\n"
     ]
    }
   ],
   "source": [
    "# If we want to know about the two most common elements\n",
    "\n",
    "from collections import Counter\n",
    "a = \"aaaaaabbbbccc\"\n",
    "mycounter = Counter(a)\n",
    "print(mycounter)\n",
    "print(mycounter.most_common(2))"
   ]
  },
  {
   "cell_type": "code",
   "execution_count": 9,
   "id": "8da51ba3",
   "metadata": {},
   "outputs": [
    {
     "name": "stdout",
     "output_type": "stream",
     "text": [
      "Counter({'a': 6, 'b': 4, 'c': 3})\n",
      "['a', 'a', 'a', 'a', 'a', 'a', 'b', 'b', 'b', 'b', 'c', 'c', 'c']\n"
     ]
    }
   ],
   "source": [
    "#let's make it as a list\n",
    "\n",
    "from collections import Counter\n",
    "a = \"aaaaaabbbbccc\"\n",
    "mycounter = Counter(a)\n",
    "print(mycounter)\n",
    "print(list(mycounter.elements()))"
   ]
  },
  {
   "cell_type": "markdown",
   "id": "53b344c8",
   "metadata": {},
   "source": [
    "### let's try our named tuple"
   ]
  },
  {
   "cell_type": "code",
   "execution_count": 10,
   "id": "dd323da9",
   "metadata": {},
   "outputs": [
    {
     "name": "stdout",
     "output_type": "stream",
     "text": [
      "Point(x=1, y=-4)\n"
     ]
    }
   ],
   "source": [
    "from collections import namedtuple\n",
    "Point = namedtuple('Point','x,y')\n",
    "pt = Point(1,-4)\n",
    "print(pt)"
   ]
  },
  {
   "cell_type": "code",
   "execution_count": 11,
   "id": "3decef1c",
   "metadata": {},
   "outputs": [
    {
     "name": "stdout",
     "output_type": "stream",
     "text": [
      "1 -4\n"
     ]
    }
   ],
   "source": [
    "from collections import namedtuple\n",
    "Point = namedtuple('Point','x,y')\n",
    "pt = Point(1,-4)\n",
    "print(pt.x, pt.y)"
   ]
  },
  {
   "cell_type": "markdown",
   "id": "7c5001f6",
   "metadata": {},
   "source": [
    "### Let's try out ordered dictionary"
   ]
  },
  {
   "cell_type": "code",
   "execution_count": 12,
   "id": "fc9cdb18",
   "metadata": {},
   "outputs": [
    {
     "name": "stdout",
     "output_type": "stream",
     "text": [
      "OrderedDict([('a', 1), ('b', 2), ('c', 3), ('d', 4)])\n"
     ]
    }
   ],
   "source": [
    "from collections import OrderedDict\n",
    "ordered_dict = OrderedDict()\n",
    "ordered_dict['a'] = 1\n",
    "ordered_dict['b'] = 2\n",
    "ordered_dict['c'] = 3\n",
    "ordered_dict['d'] = 4\n",
    "print(ordered_dict)"
   ]
  },
  {
   "cell_type": "code",
   "execution_count": 13,
   "id": "c36f52d9",
   "metadata": {},
   "outputs": [
    {
     "name": "stdout",
     "output_type": "stream",
     "text": [
      "OrderedDict([('d', 4), ('b', 2), ('c', 3), ('a', 1)])\n"
     ]
    }
   ],
   "source": [
    "from collections import OrderedDict\n",
    "ordered_dict = OrderedDict()\n",
    "ordered_dict['d'] = 4\n",
    "ordered_dict['b'] = 2\n",
    "ordered_dict['c'] = 3\n",
    "ordered_dict['a'] = 1\n",
    "print(ordered_dict)"
   ]
  },
  {
   "cell_type": "code",
   "execution_count": 14,
   "id": "549aa2ad",
   "metadata": {},
   "outputs": [
    {
     "name": "stdout",
     "output_type": "stream",
     "text": [
      "{'d': 4, 'b': 2, 'c': 3, 'a': 1}\n"
     ]
    }
   ],
   "source": [
    "from collections import OrderedDict\n",
    "ordered_dict = {}\n",
    "ordered_dict['d'] = 4\n",
    "ordered_dict['b'] = 2\n",
    "ordered_dict['c'] = 3\n",
    "ordered_dict['a'] = 1\n",
    "print(ordered_dict)"
   ]
  },
  {
   "cell_type": "markdown",
   "id": "b90fa381",
   "metadata": {},
   "source": [
    "### Let's try out ordered dictionary"
   ]
  },
  {
   "cell_type": "code",
   "execution_count": 16,
   "id": "af6257b7",
   "metadata": {},
   "outputs": [
    {
     "name": "stdout",
     "output_type": "stream",
     "text": [
      "defaultdict(<class 'int'>, {'a': 1, 'b': 2, 'c': 3})\n"
     ]
    }
   ],
   "source": [
    "# The default dict is also similar to the usual dictionary container with the only difference is that it will have a default value if the key is not being set here.\n",
    "\n",
    "from collections import defaultdict\n",
    "d = defaultdict(int)\n",
    "d['a'] = 1\n",
    "d['b'] = 2\n",
    "d['c'] = 3\n",
    "\n",
    "print(d)"
   ]
  },
  {
   "cell_type": "code",
   "execution_count": 17,
   "id": "2fcdf703",
   "metadata": {},
   "outputs": [
    {
     "name": "stdout",
     "output_type": "stream",
     "text": [
      "1\n"
     ]
    }
   ],
   "source": [
    "# we can access the value of a\n",
    "\n",
    "from collections import defaultdict\n",
    "d = defaultdict(int)\n",
    "d['a'] = 1\n",
    "d['b'] = 2\n",
    "d['c'] = 3\n",
    "\n",
    "print(d['a'])"
   ]
  },
  {
   "cell_type": "markdown",
   "id": "4070d1f2",
   "metadata": {},
   "source": [
    "### Last but not least Let's try out deque"
   ]
  },
  {
   "cell_type": "code",
   "execution_count": 18,
   "id": "26479708",
   "metadata": {},
   "outputs": [
    {
     "name": "stdout",
     "output_type": "stream",
     "text": [
      "deque([1, 2, 3])\n"
     ]
    }
   ],
   "source": [
    "# The deque is a double ended queue and it can be used to add or remove elements from both ends and both are implemented in a \n",
    "# way that this will be very efficiently.\n",
    "\n",
    "from collections import deque\n",
    "d = deque()\n",
    "\n",
    "d.append(1)\n",
    "d.append(2)\n",
    "d.append(3)\n",
    "print(d)"
   ]
  },
  {
   "cell_type": "code",
   "execution_count": 19,
   "id": "9a17bc62",
   "metadata": {},
   "outputs": [
    {
     "name": "stdout",
     "output_type": "stream",
     "text": [
      "deque([0, 1, 2, 3])\n"
     ]
    }
   ],
   "source": [
    "from collections import deque\n",
    "d = deque()\n",
    "\n",
    "d.append(1)\n",
    "d.append(2)\n",
    "d.append(3)\n",
    "d.appendleft(0)\n",
    "print(d)"
   ]
  },
  {
   "cell_type": "code",
   "execution_count": 20,
   "id": "bb0d2b9c",
   "metadata": {},
   "outputs": [
    {
     "name": "stdout",
     "output_type": "stream",
     "text": [
      "deque([0, 1, 2, 3])\n",
      "deque([0, 1, 2])\n"
     ]
    }
   ],
   "source": [
    "from collections import deque\n",
    "d = deque()\n",
    "\n",
    "d.append(1)\n",
    "d.append(2)\n",
    "d.append(3)\n",
    "\n",
    "d.appendleft(0)\n",
    "print(d)\n",
    "\n",
    "d.pop()\n",
    "print(d)"
   ]
  },
  {
   "cell_type": "code",
   "execution_count": 21,
   "id": "5588df5a",
   "metadata": {},
   "outputs": [
    {
     "name": "stdout",
     "output_type": "stream",
     "text": [
      "deque([0, 1, 2, 3])\n",
      "deque([1, 2, 3])\n"
     ]
    }
   ],
   "source": [
    "from collections import deque\n",
    "d = deque()\n",
    "\n",
    "d.append(1)\n",
    "d.append(2)\n",
    "d.append(3)\n",
    "\n",
    "d.appendleft(0)\n",
    "print(d)\n",
    "\n",
    "d.popleft()\n",
    "print(d)"
   ]
  },
  {
   "cell_type": "code",
   "execution_count": 22,
   "id": "a4f435d8",
   "metadata": {},
   "outputs": [
    {
     "name": "stdout",
     "output_type": "stream",
     "text": [
      "deque([0, 1, 2, 3])\n",
      "deque([0, 1, 2, 3, 4, 5, 6])\n"
     ]
    }
   ],
   "source": [
    "from collections import deque\n",
    "d = deque()\n",
    "\n",
    "d.append(1)\n",
    "d.append(2)\n",
    "d.append(3)\n",
    "\n",
    "d.appendleft(0)\n",
    "print(d)\n",
    "\n",
    "d.extend([4,5,6])\n",
    "print(d)"
   ]
  },
  {
   "cell_type": "code",
   "execution_count": 24,
   "id": "ecba8f62",
   "metadata": {},
   "outputs": [
    {
     "name": "stdout",
     "output_type": "stream",
     "text": [
      "deque([0, 1, 2, 3])\n",
      "deque([-3, -2, -1, 0, 1, 2, 3])\n"
     ]
    }
   ],
   "source": [
    "from collections import deque\n",
    "d = deque()\n",
    "\n",
    "d.append(1)\n",
    "d.append(2)\n",
    "d.append(3)\n",
    "\n",
    "d.appendleft(0)\n",
    "print(d)\n",
    "\n",
    "d.extendleft([-1,-2,-3])\n",
    "print(d)"
   ]
  },
  {
   "cell_type": "code",
   "execution_count": 25,
   "id": "7cc05c38",
   "metadata": {},
   "outputs": [
    {
     "name": "stdout",
     "output_type": "stream",
     "text": [
      "deque([0, 1, 2, 3])\n",
      "deque([-3, -2, -1, 0, 1, 2, 3])\n",
      "deque([3, -3, -2, -1, 0, 1, 2])\n"
     ]
    }
   ],
   "source": [
    "from collections import deque\n",
    "d = deque()\n",
    "\n",
    "d.append(1)\n",
    "d.append(2)\n",
    "d.append(3)\n",
    "\n",
    "d.appendleft(0)\n",
    "print(d)\n",
    "\n",
    "d.extendleft([-1,-2,-3])\n",
    "print(d)\n",
    "\n",
    "d.rotate(1)\n",
    "print(d)"
   ]
  },
  {
   "cell_type": "code",
   "execution_count": 26,
   "id": "fe35f839",
   "metadata": {},
   "outputs": [
    {
     "name": "stdout",
     "output_type": "stream",
     "text": [
      "deque([0, 1, 2, 3])\n",
      "deque([-3, -2, -1, 0, 1, 2, 3])\n",
      "deque([2, 3, -3, -2, -1, 0, 1])\n"
     ]
    }
   ],
   "source": [
    "from collections import deque\n",
    "d = deque()\n",
    "\n",
    "d.append(1)\n",
    "d.append(2)\n",
    "d.append(3)\n",
    "\n",
    "d.appendleft(0)\n",
    "print(d)\n",
    "\n",
    "d.extendleft([-1,-2,-3])\n",
    "print(d)\n",
    "\n",
    "d.rotate(2)\n",
    "print(d)"
   ]
  },
  {
   "cell_type": "code",
   "execution_count": 27,
   "id": "ac3ce584",
   "metadata": {},
   "outputs": [
    {
     "name": "stdout",
     "output_type": "stream",
     "text": [
      "deque([0, 1, 2, 3])\n",
      "deque([-3, -2, -1, 0, 1, 2, 3])\n",
      "deque([-2, -1, 0, 1, 2, 3, -3])\n"
     ]
    }
   ],
   "source": [
    "from collections import deque\n",
    "d = deque()\n",
    "\n",
    "d.append(1)\n",
    "d.append(2)\n",
    "d.append(3)\n",
    "\n",
    "d.appendleft(0)\n",
    "print(d)\n",
    "\n",
    "d.extendleft([-1,-2,-3])\n",
    "print(d)\n",
    "\n",
    "d.rotate(-1)\n",
    "print(d)"
   ]
  },
  {
   "cell_type": "code",
   "execution_count": null,
   "id": "9ed6583d",
   "metadata": {},
   "outputs": [],
   "source": []
  }
 ],
 "metadata": {
  "kernelspec": {
   "display_name": "Python 3",
   "language": "python",
   "name": "python3"
  },
  "language_info": {
   "codemirror_mode": {
    "name": "ipython",
    "version": 3
   },
   "file_extension": ".py",
   "mimetype": "text/x-python",
   "name": "python",
   "nbconvert_exporter": "python",
   "pygments_lexer": "ipython3",
   "version": "3.8.8"
  }
 },
 "nbformat": 4,
 "nbformat_minor": 5
}
