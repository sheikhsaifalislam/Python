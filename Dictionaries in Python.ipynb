{
 "cells": [
  {
   "cell_type": "markdown",
   "id": "eccc5dbc",
   "metadata": {},
   "source": [
    "# Hello and Welcome! today we will try to dig out what is inside in Dictionary. Let's do it together-"
   ]
  },
  {
   "cell_type": "markdown",
   "id": "371738fc",
   "metadata": {},
   "source": [
    "## By defination we can know, A dictionary is a collection data types which is unordered and mutable, it consists of collection of key value pairs so each key value pair maps the key to its associated value. Let's try to write some code-"
   ]
  },
  {
   "cell_type": "code",
   "execution_count": 1,
   "id": "532a3d6d",
   "metadata": {},
   "outputs": [],
   "source": [
    "mydict = {\"name\": \"saif\", \"age\": 26, \"city\": \"bagerhat\"}"
   ]
  },
  {
   "cell_type": "code",
   "execution_count": 2,
   "id": "e69ce0bc",
   "metadata": {},
   "outputs": [
    {
     "name": "stdout",
     "output_type": "stream",
     "text": [
      "{'name': 'saif', 'age': 26, 'city': 'bagerhat'}\n"
     ]
    }
   ],
   "source": [
    "print(mydict)"
   ]
  },
  {
   "cell_type": "markdown",
   "id": "b0c99593",
   "metadata": {},
   "source": [
    "### We can also do the same by using dict function"
   ]
  },
  {
   "cell_type": "code",
   "execution_count": 3,
   "id": "0176e940",
   "metadata": {},
   "outputs": [
    {
     "name": "stdout",
     "output_type": "stream",
     "text": [
      "{'name': 'saif', 'age': 16, 'city': 'bagerhat'}\n"
     ]
    }
   ],
   "source": [
    "mydict1 = dict(name=\"saif\", age=16, city=\"bagerhat\")\n",
    "print(mydict1)"
   ]
  },
  {
   "cell_type": "code",
   "execution_count": 4,
   "id": "105182f8",
   "metadata": {},
   "outputs": [
    {
     "name": "stdout",
     "output_type": "stream",
     "text": [
      "16\n"
     ]
    }
   ],
   "source": [
    "print(mydict1[\"age\"])"
   ]
  },
  {
   "cell_type": "markdown",
   "id": "4e70fb31",
   "metadata": {},
   "source": [
    "### As dictionary is mutable so we can add new values in it. Let's try it out-"
   ]
  },
  {
   "cell_type": "code",
   "execution_count": 5,
   "id": "a6787709",
   "metadata": {},
   "outputs": [],
   "source": [
    "mydict1[\"email\"] = \"saif@gmail.com\""
   ]
  },
  {
   "cell_type": "code",
   "execution_count": 6,
   "id": "a83c42b6",
   "metadata": {},
   "outputs": [
    {
     "name": "stdout",
     "output_type": "stream",
     "text": [
      "{'name': 'saif', 'age': 16, 'city': 'bagerhat', 'email': 'saif@gmail.com'}\n"
     ]
    }
   ],
   "source": [
    "print(mydict1)"
   ]
  },
  {
   "cell_type": "markdown",
   "id": "45b93640",
   "metadata": {},
   "source": [
    "#### We also can delete item"
   ]
  },
  {
   "cell_type": "code",
   "execution_count": 7,
   "id": "907a61f9",
   "metadata": {},
   "outputs": [
    {
     "name": "stdout",
     "output_type": "stream",
     "text": [
      "{'age': 26, 'city': 'bagerhat'}\n"
     ]
    }
   ],
   "source": [
    "del mydict[\"name\"]\n",
    "print(mydict)"
   ]
  },
  {
   "cell_type": "code",
   "execution_count": 8,
   "id": "48eb807d",
   "metadata": {},
   "outputs": [
    {
     "name": "stdout",
     "output_type": "stream",
     "text": [
      "{'age': 16, 'city': 'bagerhat', 'email': 'saif@gmail.com'}\n"
     ]
    }
   ],
   "source": [
    "mydict1.pop(\"name\")\n",
    "print(mydict1)"
   ]
  },
  {
   "cell_type": "markdown",
   "id": "3689037f",
   "metadata": {},
   "source": [
    "### We  can check whether an item is in our dictionary or not by using if condition."
   ]
  },
  {
   "cell_type": "code",
   "execution_count": 9,
   "id": "369ef879",
   "metadata": {},
   "outputs": [
    {
     "name": "stdout",
     "output_type": "stream",
     "text": [
      "yes\n"
     ]
    }
   ],
   "source": [
    "if \"age\" in mydict1:\n",
    "    print(\"yes\")\n",
    "else:\n",
    "    print(\"no\")"
   ]
  },
  {
   "cell_type": "code",
   "execution_count": 10,
   "id": "1e1bdfae",
   "metadata": {},
   "outputs": [
    {
     "name": "stdout",
     "output_type": "stream",
     "text": [
      "no\n"
     ]
    }
   ],
   "source": [
    "if \"name\" in mydict1:\n",
    "    print(\"yes\")\n",
    "else:\n",
    "    print(\"no\")"
   ]
  },
  {
   "cell_type": "markdown",
   "id": "f01eb7f0",
   "metadata": {},
   "source": [
    "### Try, except statement is the another way to do this, let's have a look-"
   ]
  },
  {
   "cell_type": "code",
   "execution_count": 11,
   "id": "6bc56bca",
   "metadata": {},
   "outputs": [
    {
     "name": "stdout",
     "output_type": "stream",
     "text": [
      "26\n"
     ]
    }
   ],
   "source": [
    "try:\n",
    "    print(mydict[\"age\"])\n",
    "except:\n",
    "    print(\"Error\")"
   ]
  },
  {
   "cell_type": "code",
   "execution_count": 12,
   "id": "01763146",
   "metadata": {},
   "outputs": [
    {
     "name": "stdout",
     "output_type": "stream",
     "text": [
      "Error\n"
     ]
    }
   ],
   "source": [
    "try:\n",
    "    print(mydict[\"name\"])\n",
    "except:\n",
    "    print(\"Error\")"
   ]
  },
  {
   "cell_type": "code",
   "execution_count": 13,
   "id": "6412f0ab",
   "metadata": {},
   "outputs": [
    {
     "name": "stdout",
     "output_type": "stream",
     "text": [
      "{'name': 'saif', 'age': 26, 'city': 'bagerhat'}\n"
     ]
    }
   ],
   "source": [
    "mydict = {\"name\": \"saif\", \"age\": 26, \"city\": \"bagerhat\"}\n",
    "print(mydict)"
   ]
  },
  {
   "cell_type": "code",
   "execution_count": 15,
   "id": "4e817fee",
   "metadata": {},
   "outputs": [
    {
     "name": "stdout",
     "output_type": "stream",
     "text": [
      "name\n",
      "age\n",
      "city\n"
     ]
    }
   ],
   "source": [
    "for key in mydict:\n",
    "    print(key)"
   ]
  },
  {
   "cell_type": "code",
   "execution_count": 17,
   "id": "12a2118c",
   "metadata": {},
   "outputs": [
    {
     "name": "stdout",
     "output_type": "stream",
     "text": [
      "saif\n",
      "26\n",
      "bagerhat\n"
     ]
    }
   ],
   "source": [
    "for value in mydict.values():\n",
    "    print(value)"
   ]
  },
  {
   "cell_type": "code",
   "execution_count": 18,
   "id": "a84894f0",
   "metadata": {},
   "outputs": [
    {
     "name": "stdout",
     "output_type": "stream",
     "text": [
      "name saif\n",
      "age 26\n",
      "city bagerhat\n"
     ]
    }
   ],
   "source": [
    "for key, value in mydict.items():\n",
    "    print(key, value)"
   ]
  },
  {
   "cell_type": "markdown",
   "id": "d504efd0",
   "metadata": {},
   "source": [
    "### Copying in dictionary"
   ]
  },
  {
   "cell_type": "code",
   "execution_count": 19,
   "id": "ada3ba7a",
   "metadata": {},
   "outputs": [
    {
     "data": {
      "text/plain": [
       "{'name': 'saif', 'age': 26, 'city': 'bagerhat'}"
      ]
     },
     "execution_count": 19,
     "metadata": {},
     "output_type": "execute_result"
    }
   ],
   "source": [
    "mydict"
   ]
  },
  {
   "cell_type": "code",
   "execution_count": 20,
   "id": "f440ddf9",
   "metadata": {},
   "outputs": [],
   "source": [
    "mydict_cpy = mydict"
   ]
  },
  {
   "cell_type": "code",
   "execution_count": 21,
   "id": "78c0fc76",
   "metadata": {},
   "outputs": [
    {
     "data": {
      "text/plain": [
       "{'name': 'saif', 'age': 26, 'city': 'bagerhat'}"
      ]
     },
     "execution_count": 21,
     "metadata": {},
     "output_type": "execute_result"
    }
   ],
   "source": [
    "mydict\n",
    "mydict_cpy"
   ]
  },
  {
   "cell_type": "code",
   "execution_count": 22,
   "id": "4250b272",
   "metadata": {},
   "outputs": [
    {
     "data": {
      "text/plain": [
       "{'name': 'saif', 'age': 26, 'city': 'bagerhat'}"
      ]
     },
     "execution_count": 22,
     "metadata": {},
     "output_type": "execute_result"
    }
   ],
   "source": [
    "mydict_cpy"
   ]
  },
  {
   "cell_type": "code",
   "execution_count": 23,
   "id": "e3e433d7",
   "metadata": {},
   "outputs": [
    {
     "data": {
      "text/plain": [
       "{'name': 'saif', 'age': 26, 'city': 'bagerhat'}"
      ]
     },
     "execution_count": 23,
     "metadata": {},
     "output_type": "execute_result"
    }
   ],
   "source": [
    "mydict"
   ]
  },
  {
   "cell_type": "markdown",
   "id": "2813af52",
   "metadata": {},
   "source": [
    "### Now if we modify the copy it will also modify the original one. Let's check it out-"
   ]
  },
  {
   "cell_type": "code",
   "execution_count": 24,
   "id": "25fd99d5",
   "metadata": {},
   "outputs": [],
   "source": [
    "mydict_cpy[\"email\"] = \"saif@xyz.com\""
   ]
  },
  {
   "cell_type": "code",
   "execution_count": 25,
   "id": "545d2e35",
   "metadata": {},
   "outputs": [
    {
     "data": {
      "text/plain": [
       "{'name': 'saif', 'age': 26, 'city': 'bagerhat', 'email': 'saif@xyz.com'}"
      ]
     },
     "execution_count": 25,
     "metadata": {},
     "output_type": "execute_result"
    }
   ],
   "source": [
    "mydict_cpy"
   ]
  },
  {
   "cell_type": "code",
   "execution_count": 26,
   "id": "4fd47b8b",
   "metadata": {},
   "outputs": [
    {
     "data": {
      "text/plain": [
       "{'name': 'saif', 'age': 26, 'city': 'bagerhat', 'email': 'saif@xyz.com'}"
      ]
     },
     "execution_count": 26,
     "metadata": {},
     "output_type": "execute_result"
    }
   ],
   "source": [
    "mydict"
   ]
  },
  {
   "cell_type": "markdown",
   "id": "917256c3",
   "metadata": {},
   "source": [
    "### *Important: If we don't want to change the original mydict then we have to use .copy or simply add dict just before mydict"
   ]
  },
  {
   "cell_type": "markdown",
   "id": "1d4b1ff9",
   "metadata": {},
   "source": [
    "## Now let's try out merging two dictionary. Initially start out by creating two dictionary-"
   ]
  },
  {
   "cell_type": "code",
   "execution_count": 27,
   "id": "43caef19",
   "metadata": {},
   "outputs": [],
   "source": [
    "my_dict = {\"name\":\"saif\", \"age\":26, \"email\":\"saif@xyz.com\"}\n",
    "my_dict2 = dict(name=\"Merry\", age=27, city=\"Boston\")"
   ]
  },
  {
   "cell_type": "code",
   "execution_count": 28,
   "id": "0d83d854",
   "metadata": {},
   "outputs": [
    {
     "name": "stdout",
     "output_type": "stream",
     "text": [
      "{'name': 'Merry', 'age': 27, 'email': 'saif@xyz.com', 'city': 'Boston'}\n"
     ]
    }
   ],
   "source": [
    "my_dict.update(my_dict2)\n",
    "print(my_dict)"
   ]
  },
  {
   "cell_type": "code",
   "execution_count": null,
   "id": "b1f87684",
   "metadata": {},
   "outputs": [],
   "source": []
  }
 ],
 "metadata": {
  "kernelspec": {
   "display_name": "Python 3",
   "language": "python",
   "name": "python3"
  },
  "language_info": {
   "codemirror_mode": {
    "name": "ipython",
    "version": 3
   },
   "file_extension": ".py",
   "mimetype": "text/x-python",
   "name": "python",
   "nbconvert_exporter": "python",
   "pygments_lexer": "ipython3",
   "version": "3.8.8"
  }
 },
 "nbformat": 4,
 "nbformat_minor": 5
}
