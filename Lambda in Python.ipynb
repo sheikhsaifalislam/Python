{
 "cells": [
  {
   "cell_type": "markdown",
   "id": "682c5aba",
   "metadata": {},
   "source": [
    "## Today we are going to dig out some mysterious items what is inside Lambda functions in Python, Let's try out!"
   ]
  },
  {
   "cell_type": "code",
   "execution_count": 1,
   "id": "9dba3b09",
   "metadata": {},
   "outputs": [
    {
     "name": "stdout",
     "output_type": "stream",
     "text": [
      "15\n"
     ]
    }
   ],
   "source": [
    "add10 = lambda x : x + 10\n",
    "print(add10(5))"
   ]
  },
  {
   "cell_type": "code",
   "execution_count": 2,
   "id": "d663dc76",
   "metadata": {},
   "outputs": [
    {
     "name": "stdout",
     "output_type": "stream",
     "text": [
      "14\n"
     ]
    }
   ],
   "source": [
    "# Lambda function can also have multiple arguments\n",
    "\n",
    "mult = lambda x,y: x*y\n",
    "print(mult(2,7))"
   ]
  },
  {
   "cell_type": "code",
   "execution_count": 3,
   "id": "c11ef7ef",
   "metadata": {},
   "outputs": [
    {
     "name": "stdout",
     "output_type": "stream",
     "text": [
      "[(1, 2), (15, 1), (5, -1), (10, 4)]\n",
      "[(1, 2), (5, -1), (10, 4), (15, 1)]\n"
     ]
    }
   ],
   "source": [
    "#let's try out using list\n",
    "\n",
    "points2D = [(1,2), (15,1),(5,-1),(10,4)]\n",
    "\n",
    "#now if we want to sort this\n",
    "points2D_sorted = sorted(points2D)\n",
    "\n",
    "print(points2D)\n",
    "print(points2D_sorted)"
   ]
  },
  {
   "cell_type": "code",
   "execution_count": 4,
   "id": "acbe1ac5",
   "metadata": {},
   "outputs": [
    {
     "name": "stdout",
     "output_type": "stream",
     "text": [
      "[(1, 2), (15, 1), (5, -1), (10, 4)]\n",
      "[(5, -1), (15, 1), (1, 2), (10, 4)]\n"
     ]
    }
   ],
   "source": [
    "# This sorted has completed considering x positions. But if we want to consider y positions then we have to give a specific rule\n",
    "# how to sort! Let's try\n",
    "\n",
    "points2D = [(1,2), (15,1),(5,-1),(10,4)]\n",
    "\n",
    "#now if we want to sort this\n",
    "points2D_sorted = sorted(points2D, key = lambda x:x[1])\n",
    "\n",
    "print(points2D)\n",
    "print(points2D_sorted)\n"
   ]
  },
  {
   "cell_type": "code",
   "execution_count": 5,
   "id": "78ee29b6",
   "metadata": {},
   "outputs": [
    {
     "name": "stdout",
     "output_type": "stream",
     "text": [
      "[(1, 2), (15, 1), (5, -1), (10, 4)]\n",
      "[(5, -1), (15, 1), (1, 2), (10, 4)]\n"
     ]
    }
   ],
   "source": [
    "# we can also do the same thing using function instead of using lambda functions, lets check it out!\n",
    "\n",
    "points2D = [(1,2), (15,1),(5,-1),(10,4)]\n",
    "\n",
    "def sort_by_y(x):\n",
    "    return x[1]\n",
    "\n",
    "#now if we want to sort this\n",
    "points2D_sorted = sorted(points2D, key = sort_by_y)\n",
    "\n",
    "print(points2D)\n",
    "print(points2D_sorted)"
   ]
  },
  {
   "cell_type": "code",
   "execution_count": 6,
   "id": "19739993",
   "metadata": {},
   "outputs": [
    {
     "name": "stdout",
     "output_type": "stream",
     "text": [
      "[(1, 2), (15, 1), (5, -1), (10, 4)]\n",
      "[(1, 2), (5, -1), (10, 4), (15, 1)]\n"
     ]
    }
   ],
   "source": [
    "#let's try out sorting by considering the some of each pair!\n",
    "\n",
    "points2D = [(1,2), (15,1),(5,-1),(10,4)]\n",
    "\n",
    "#now if we want to sort this\n",
    "points2D_sorted = sorted(points2D, key = lambda x:x[0] + x[1])\n",
    "\n",
    "print(points2D)\n",
    "print(points2D_sorted)"
   ]
  },
  {
   "cell_type": "markdown",
   "id": "ce01f45e",
   "metadata": {},
   "source": [
    "### Let's try out map function!"
   ]
  },
  {
   "cell_type": "code",
   "execution_count": 7,
   "id": "7e49877f",
   "metadata": {},
   "outputs": [
    {
     "name": "stdout",
     "output_type": "stream",
     "text": [
      "[2, 4, 6, 8, 10]\n"
     ]
    }
   ],
   "source": [
    "a = [1,2,3,4,5]\n",
    "b = map(lambda x:x*2, a)\n",
    "print(list(b))"
   ]
  },
  {
   "cell_type": "code",
   "execution_count": 10,
   "id": "340110b0",
   "metadata": {},
   "outputs": [
    {
     "name": "stdout",
     "output_type": "stream",
     "text": [
      "2\n",
      "4\n",
      "6\n",
      "8\n",
      "10\n"
     ]
    }
   ],
   "source": [
    "for x in a:\n",
    "    print(x*2)"
   ]
  },
  {
   "cell_type": "code",
   "execution_count": 12,
   "id": "9ba7d2a5",
   "metadata": {},
   "outputs": [
    {
     "name": "stdout",
     "output_type": "stream",
     "text": [
      "[2, 4, 6, 8, 10]\n"
     ]
    }
   ],
   "source": [
    "c = [x*2 for x in a]\n",
    "print(c)"
   ]
  },
  {
   "cell_type": "markdown",
   "id": "f189954e",
   "metadata": {},
   "source": [
    "### Le'ts try out filter function!"
   ]
  },
  {
   "cell_type": "code",
   "execution_count": 14,
   "id": "9b47c2d8",
   "metadata": {},
   "outputs": [
    {
     "name": "stdout",
     "output_type": "stream",
     "text": [
      "[2, 4, 6]\n"
     ]
    }
   ],
   "source": [
    "a = [1,2,3,4,5,6]\n",
    "b = filter(lambda x: x%2 == 0, a)\n",
    "print(list(b))"
   ]
  },
  {
   "cell_type": "code",
   "execution_count": 15,
   "id": "39f997bf",
   "metadata": {},
   "outputs": [
    {
     "name": "stdout",
     "output_type": "stream",
     "text": [
      "[2, 4, 6]\n"
     ]
    }
   ],
   "source": [
    "# In the previous example we got only the even numbers!\n",
    "\n",
    "# Again we can achieve using the list comprehension.\n",
    "\n",
    "c = [x for x in a if x%2==0]\n",
    "print(c)"
   ]
  },
  {
   "cell_type": "markdown",
   "id": "42232788",
   "metadata": {},
   "source": [
    "### The last function we are going to practise is reduce function. "
   ]
  },
  {
   "cell_type": "code",
   "execution_count": 16,
   "id": "ac9c81dd",
   "metadata": {},
   "outputs": [
    {
     "name": "stdout",
     "output_type": "stream",
     "text": [
      "720\n"
     ]
    }
   ],
   "source": [
    "from functools import reduce\n",
    "a = [1,2,3,4,5,6]\n",
    "\n",
    "#now i want to compute the all elements!\n",
    "\n",
    "product_a = reduce(lambda x, y: x*y, a)\n",
    "print(product_a)"
   ]
  },
  {
   "cell_type": "code",
   "execution_count": null,
   "id": "859ebec6",
   "metadata": {},
   "outputs": [],
   "source": []
  }
 ],
 "metadata": {
  "kernelspec": {
   "display_name": "Python 3",
   "language": "python",
   "name": "python3"
  },
  "language_info": {
   "codemirror_mode": {
    "name": "ipython",
    "version": 3
   },
   "file_extension": ".py",
   "mimetype": "text/x-python",
   "name": "python",
   "nbconvert_exporter": "python",
   "pygments_lexer": "ipython3",
   "version": "3.8.8"
  }
 },
 "nbformat": 4,
 "nbformat_minor": 5
}
