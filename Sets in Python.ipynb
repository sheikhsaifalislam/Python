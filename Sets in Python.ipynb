{
 "cells": [
  {
   "cell_type": "markdown",
   "id": "8f9ada14",
   "metadata": {},
   "source": [
    "## Hello everyone, today we are going to write some very fundamental code in python. Let's watch it out!"
   ]
  },
  {
   "cell_type": "markdown",
   "id": "1864dead",
   "metadata": {},
   "source": [
    "### What is set?\n",
    "\n",
    "#### A set is a collection data type that is unordered and mutable but  unlike list and tuples it doesn't allow duplicate eliments. "
   ]
  },
  {
   "cell_type": "code",
   "execution_count": 1,
   "id": "7c43ea52",
   "metadata": {},
   "outputs": [],
   "source": [
    "myset = {1,2,3}"
   ]
  },
  {
   "cell_type": "code",
   "execution_count": 2,
   "id": "137e452e",
   "metadata": {},
   "outputs": [
    {
     "name": "stdout",
     "output_type": "stream",
     "text": [
      "{1, 2, 3}\n"
     ]
    }
   ],
   "source": [
    "print(myset)"
   ]
  },
  {
   "cell_type": "code",
   "execution_count": 3,
   "id": "c96ef206",
   "metadata": {},
   "outputs": [
    {
     "name": "stdout",
     "output_type": "stream",
     "text": [
      "{1, 2, 3}\n"
     ]
    }
   ],
   "source": [
    "myset = {1,2,3,1,2}\n",
    "print(myset)"
   ]
  },
  {
   "cell_type": "markdown",
   "id": "a6cc6f34",
   "metadata": {},
   "source": [
    "#### We have seen above that set doesn't allow duplicate elements. "
   ]
  },
  {
   "cell_type": "code",
   "execution_count": 4,
   "id": "3bf7f10d",
   "metadata": {},
   "outputs": [],
   "source": [
    "#we can also use set function\n",
    "\n",
    "myset = set([1,2,3])"
   ]
  },
  {
   "cell_type": "code",
   "execution_count": 5,
   "id": "4523ff36",
   "metadata": {},
   "outputs": [
    {
     "name": "stdout",
     "output_type": "stream",
     "text": [
      "{1, 2, 3}\n"
     ]
    }
   ],
   "source": [
    "print(myset)"
   ]
  },
  {
   "cell_type": "code",
   "execution_count": 6,
   "id": "383605f4",
   "metadata": {},
   "outputs": [],
   "source": [
    "myset.add(1)\n",
    "myset.add(2)\n",
    "myset.add(3)"
   ]
  },
  {
   "cell_type": "code",
   "execution_count": 7,
   "id": "aa94cd0e",
   "metadata": {},
   "outputs": [
    {
     "name": "stdout",
     "output_type": "stream",
     "text": [
      "{1, 2, 3}\n"
     ]
    }
   ],
   "source": [
    "print(myset)"
   ]
  },
  {
   "cell_type": "code",
   "execution_count": 8,
   "id": "68ed4241",
   "metadata": {},
   "outputs": [],
   "source": [
    "#we can remove element by using remove\n",
    "\n",
    "myset.remove(3)"
   ]
  },
  {
   "cell_type": "code",
   "execution_count": 9,
   "id": "3bdc8bb0",
   "metadata": {},
   "outputs": [
    {
     "data": {
      "text/plain": [
       "{1, 2}"
      ]
     },
     "execution_count": 9,
     "metadata": {},
     "output_type": "execute_result"
    }
   ],
   "source": [
    "myset"
   ]
  },
  {
   "cell_type": "code",
   "execution_count": 10,
   "id": "ad175fce",
   "metadata": {},
   "outputs": [],
   "source": [
    "myset.add(1)\n",
    "myset.add(2)\n",
    "myset.add(3)"
   ]
  },
  {
   "cell_type": "code",
   "execution_count": 11,
   "id": "4dbe8501",
   "metadata": {},
   "outputs": [
    {
     "name": "stdout",
     "output_type": "stream",
     "text": [
      "1\n",
      "2\n",
      "3\n"
     ]
    }
   ],
   "source": [
    "for i in myset:\n",
    "    print(i)"
   ]
  },
  {
   "cell_type": "code",
   "execution_count": 12,
   "id": "e36ab265",
   "metadata": {},
   "outputs": [
    {
     "name": "stdout",
     "output_type": "stream",
     "text": [
      "yes\n"
     ]
    }
   ],
   "source": [
    "if 1 in myset:\n",
    "    print(\"yes\")"
   ]
  },
  {
   "cell_type": "markdown",
   "id": "1a84d805",
   "metadata": {},
   "source": [
    "### Let's  try out UNION and intersection"
   ]
  },
  {
   "cell_type": "code",
   "execution_count": 13,
   "id": "5b72abd8",
   "metadata": {},
   "outputs": [],
   "source": [
    "odds = {1,3,5,7,9}\n",
    "evens = {0,2,4,6,8}\n",
    "primes = {2,3,5,7}"
   ]
  },
  {
   "cell_type": "code",
   "execution_count": 14,
   "id": "0ab10cfe",
   "metadata": {},
   "outputs": [
    {
     "name": "stdout",
     "output_type": "stream",
     "text": [
      "{0, 1, 2, 3, 4, 5, 6, 7, 8, 9}\n"
     ]
    }
   ],
   "source": [
    "union = odds.union(evens)\n",
    "print(union)"
   ]
  },
  {
   "cell_type": "code",
   "execution_count": 19,
   "id": "19bf36a4",
   "metadata": {},
   "outputs": [],
   "source": [
    "intersection = odds.intersection(evens)"
   ]
  },
  {
   "cell_type": "code",
   "execution_count": 20,
   "id": "98ad87fa",
   "metadata": {},
   "outputs": [
    {
     "data": {
      "text/plain": [
       "set()"
      ]
     },
     "execution_count": 20,
     "metadata": {},
     "output_type": "execute_result"
    }
   ],
   "source": [
    "intersection"
   ]
  },
  {
   "cell_type": "code",
   "execution_count": 21,
   "id": "93b20db6",
   "metadata": {},
   "outputs": [],
   "source": [
    "intersection = odds.intersection(primes)"
   ]
  },
  {
   "cell_type": "code",
   "execution_count": 22,
   "id": "9703ac02",
   "metadata": {},
   "outputs": [
    {
     "data": {
      "text/plain": [
       "{3, 5, 7}"
      ]
     },
     "execution_count": 22,
     "metadata": {},
     "output_type": "execute_result"
    }
   ],
   "source": [
    "intersection"
   ]
  },
  {
   "cell_type": "code",
   "execution_count": 23,
   "id": "2b71e14e",
   "metadata": {},
   "outputs": [],
   "source": [
    "intersection = evens.intersection(primes)"
   ]
  },
  {
   "cell_type": "code",
   "execution_count": 24,
   "id": "e1975f1b",
   "metadata": {},
   "outputs": [
    {
     "data": {
      "text/plain": [
       "{2}"
      ]
     },
     "execution_count": 24,
     "metadata": {},
     "output_type": "execute_result"
    }
   ],
   "source": [
    "intersection"
   ]
  },
  {
   "cell_type": "markdown",
   "id": "e2e5189e",
   "metadata": {},
   "source": [
    "### We can also calculate the difference of two sets. Let's create two sets-"
   ]
  },
  {
   "cell_type": "code",
   "execution_count": 25,
   "id": "db6e5bbd",
   "metadata": {},
   "outputs": [],
   "source": [
    "setA = {1,2,3,4,5,6,7,8,9}\n",
    "setB = {1,2,3,10,11,12}"
   ]
  },
  {
   "cell_type": "markdown",
   "id": "ba7b07e3",
   "metadata": {},
   "source": [
    "#### The difference will return a set with all elements from the first set that are not in the second set. "
   ]
  },
  {
   "cell_type": "code",
   "execution_count": 26,
   "id": "dcee2109",
   "metadata": {},
   "outputs": [
    {
     "name": "stdout",
     "output_type": "stream",
     "text": [
      "{4, 5, 6, 7, 8, 9}\n"
     ]
    }
   ],
   "source": [
    "dif = setA.difference(setB)\n",
    "print(dif)"
   ]
  },
  {
   "cell_type": "code",
   "execution_count": 27,
   "id": "dfb4ab03",
   "metadata": {},
   "outputs": [
    {
     "name": "stdout",
     "output_type": "stream",
     "text": [
      "{10, 11, 12}\n"
     ]
    }
   ],
   "source": [
    "dif = setB.difference(setA)\n",
    "print(dif)"
   ]
  },
  {
   "cell_type": "markdown",
   "id": "6ba88cbf",
   "metadata": {},
   "source": [
    "#### There is another method which is symetric difference which will return all the elements from both set. Let's have a look-"
   ]
  },
  {
   "cell_type": "code",
   "execution_count": 29,
   "id": "dd59ecdb",
   "metadata": {},
   "outputs": [
    {
     "name": "stdout",
     "output_type": "stream",
     "text": [
      "{4, 5, 6, 7, 8, 9, 10, 11, 12}\n"
     ]
    }
   ],
   "source": [
    "dif = setA.symmetric_difference(setB)\n",
    "print(dif)"
   ]
  },
  {
   "cell_type": "code",
   "execution_count": 30,
   "id": "f5ea29a4",
   "metadata": {},
   "outputs": [
    {
     "name": "stdout",
     "output_type": "stream",
     "text": [
      "{4, 5, 6, 7, 8, 9, 10, 11, 12}\n"
     ]
    }
   ],
   "source": [
    "dif = setB.symmetric_difference(setA)\n",
    "print(dif)"
   ]
  },
  {
   "cell_type": "markdown",
   "id": "50201a9d",
   "metadata": {},
   "source": [
    "### We can modify our set. Let's have a look-"
   ]
  },
  {
   "cell_type": "code",
   "execution_count": 31,
   "id": "19c0f9d8",
   "metadata": {},
   "outputs": [
    {
     "name": "stdout",
     "output_type": "stream",
     "text": [
      "{1, 2, 3, 4, 5, 6, 7, 8, 9, 10, 11, 12}\n"
     ]
    }
   ],
   "source": [
    "setA.update(setB)\n",
    "print(setA)"
   ]
  },
  {
   "cell_type": "markdown",
   "id": "9c9bb746",
   "metadata": {},
   "source": [
    "#### without duplication all the elements have there. Interesting!"
   ]
  },
  {
   "cell_type": "code",
   "execution_count": 33,
   "id": "5b7a98be",
   "metadata": {},
   "outputs": [
    {
     "name": "stdout",
     "output_type": "stream",
     "text": [
      "{1, 2, 3}\n"
     ]
    }
   ],
   "source": [
    "## There's also an intersection update method!\n",
    "setA = {1,2,3,4,5,6,7,8,9}\n",
    "setB = {1,2,3,10,11,12}\n",
    "setA.intersection_update(setB)\n",
    "print(setA)"
   ]
  },
  {
   "cell_type": "code",
   "execution_count": 34,
   "id": "6e006254",
   "metadata": {},
   "outputs": [
    {
     "name": "stdout",
     "output_type": "stream",
     "text": [
      "{4, 5, 6, 7, 8, 9}\n"
     ]
    }
   ],
   "source": [
    "## There's also difference update method\n",
    "\n",
    "setA = {1,2,3,4,5,6,7,8,9}\n",
    "setB = {1,2,3,10,11,12}\n",
    "setA.difference_update(setB)\n",
    "print(setA)"
   ]
  },
  {
   "cell_type": "code",
   "execution_count": 36,
   "id": "f69925c9",
   "metadata": {},
   "outputs": [
    {
     "name": "stdout",
     "output_type": "stream",
     "text": [
      "{4, 5, 6, 7, 8, 9, 10, 11, 12}\n"
     ]
    }
   ],
   "source": [
    "## There's also symmetric_difference update method\n",
    "\n",
    "setA = {1,2,3,4,5,6,7,8,9}\n",
    "setB = {1,2,3,10,11,12}\n",
    "setA.symmetric_difference_update(setB)\n",
    "print(setA)"
   ]
  },
  {
   "cell_type": "markdown",
   "id": "456665be",
   "metadata": {},
   "source": [
    "### We can check whether two sets are subset or not!"
   ]
  },
  {
   "cell_type": "code",
   "execution_count": 37,
   "id": "eb9b375d",
   "metadata": {},
   "outputs": [],
   "source": [
    "setc = {1,2,3,4,5,6}\n",
    "setd = {1,2,3}"
   ]
  },
  {
   "cell_type": "code",
   "execution_count": 38,
   "id": "43547585",
   "metadata": {},
   "outputs": [
    {
     "name": "stdout",
     "output_type": "stream",
     "text": [
      "False\n"
     ]
    }
   ],
   "source": [
    "print(setc.issubset(setd))"
   ]
  },
  {
   "cell_type": "code",
   "execution_count": 39,
   "id": "7637df92",
   "metadata": {},
   "outputs": [
    {
     "name": "stdout",
     "output_type": "stream",
     "text": [
      "True\n"
     ]
    }
   ],
   "source": [
    "#subset means all the elements of set are available in the second set. \n",
    "\n",
    "print(setd.issubset(setc))"
   ]
  },
  {
   "cell_type": "markdown",
   "id": "f13b05a9",
   "metadata": {},
   "source": [
    "### We also can check superset!"
   ]
  },
  {
   "cell_type": "code",
   "execution_count": 40,
   "id": "d66c229f",
   "metadata": {},
   "outputs": [],
   "source": [
    "setc = {1,2,3,4,5,6}\n",
    "setd = {1,2,3}"
   ]
  },
  {
   "cell_type": "code",
   "execution_count": 41,
   "id": "5baceed6",
   "metadata": {},
   "outputs": [
    {
     "name": "stdout",
     "output_type": "stream",
     "text": [
      "True\n"
     ]
    }
   ],
   "source": [
    "print(setc.issuperset(setd))"
   ]
  },
  {
   "cell_type": "code",
   "execution_count": 42,
   "id": "a899d3c7",
   "metadata": {},
   "outputs": [
    {
     "name": "stdout",
     "output_type": "stream",
     "text": [
      "False\n"
     ]
    }
   ],
   "source": [
    "## A superset returns True if the first set contains all the numbers or all the elements from the second set. \n",
    "\n",
    "print(setd.issuperset(setc))\n",
    "\n",
    "## output will provide falst because set d doesnt contain 4,5,6"
   ]
  },
  {
   "cell_type": "markdown",
   "id": "a66a131f",
   "metadata": {},
   "source": [
    "### Now we are going to check disjoint between two sets. Disjoint returns true if there is no common between two sets i mean null. Let's have a look-"
   ]
  },
  {
   "cell_type": "code",
   "execution_count": 43,
   "id": "7a026693",
   "metadata": {},
   "outputs": [],
   "source": [
    "setc = {1,2,3,4,5,6}\n",
    "setd = {1,2,3}\n",
    "sete = {7,8}"
   ]
  },
  {
   "cell_type": "code",
   "execution_count": 45,
   "id": "9d2eaebf",
   "metadata": {},
   "outputs": [
    {
     "name": "stdout",
     "output_type": "stream",
     "text": [
      "True\n"
     ]
    }
   ],
   "source": [
    "print(setc.isdisjoint(sete))"
   ]
  },
  {
   "cell_type": "code",
   "execution_count": 46,
   "id": "db714503",
   "metadata": {},
   "outputs": [
    {
     "name": "stdout",
     "output_type": "stream",
     "text": [
      "False\n"
     ]
    }
   ],
   "source": [
    "print(setc.isdisjoint(setd))"
   ]
  },
  {
   "cell_type": "code",
   "execution_count": null,
   "id": "37615587",
   "metadata": {},
   "outputs": [],
   "source": []
  }
 ],
 "metadata": {
  "kernelspec": {
   "display_name": "Python 3",
   "language": "python",
   "name": "python3"
  },
  "language_info": {
   "codemirror_mode": {
    "name": "ipython",
    "version": 3
   },
   "file_extension": ".py",
   "mimetype": "text/x-python",
   "name": "python",
   "nbconvert_exporter": "python",
   "pygments_lexer": "ipython3",
   "version": "3.8.8"
  }
 },
 "nbformat": 4,
 "nbformat_minor": 5
}
