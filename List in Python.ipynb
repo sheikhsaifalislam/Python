{
 "cells": [
  {
   "cell_type": "markdown",
   "id": "03f8e63a",
   "metadata": {},
   "source": [
    "# Here i will try to figure out several methods of List in Python, It would be super easy and simple. Let's play:"
   ]
  },
  {
   "cell_type": "markdown",
   "id": "bcc6ff3e",
   "metadata": {},
   "source": [
    "## * A list is a collection of data types that is ordered mutable and it allows to duplicate elements. "
   ]
  },
  {
   "cell_type": "code",
   "execution_count": 1,
   "id": "65b6a14e",
   "metadata": {},
   "outputs": [],
   "source": [
    "mylist = [\"banana\", \"cherry\",\"apple\"]"
   ]
  },
  {
   "cell_type": "code",
   "execution_count": 2,
   "id": "5d21a15c",
   "metadata": {},
   "outputs": [
    {
     "name": "stdout",
     "output_type": "stream",
     "text": [
      "['banana', 'cherry', 'apple']\n"
     ]
    }
   ],
   "source": [
    "print(mylist)"
   ]
  },
  {
   "cell_type": "markdown",
   "id": "58e0c59c",
   "metadata": {},
   "source": [
    "#### Previously we have only included string data types, now lets see what happen if we include different  data types. Will we get an error? What you think? Let's check it- "
   ]
  },
  {
   "cell_type": "code",
   "execution_count": 7,
   "id": "69c484bf",
   "metadata": {},
   "outputs": [],
   "source": [
    "mylist2 = [7, True, \"apple\"]"
   ]
  },
  {
   "cell_type": "code",
   "execution_count": 8,
   "id": "553b1552",
   "metadata": {},
   "outputs": [
    {
     "name": "stdout",
     "output_type": "stream",
     "text": [
      "[7, True, 'apple']\n"
     ]
    }
   ],
   "source": [
    "print(mylist2)"
   ]
  },
  {
   "cell_type": "markdown",
   "id": "15cfb047",
   "metadata": {},
   "source": [
    "#### Wow! List allows different data types. Interesting!!!"
   ]
  },
  {
   "cell_type": "code",
   "execution_count": 9,
   "id": "f6cfffa1",
   "metadata": {},
   "outputs": [],
   "source": [
    "mylist2 = [7, True, \"apple\",\"apple\"]"
   ]
  },
  {
   "cell_type": "code",
   "execution_count": 10,
   "id": "36c3da28",
   "metadata": {},
   "outputs": [
    {
     "name": "stdout",
     "output_type": "stream",
     "text": [
      "[7, True, 'apple', 'apple']\n"
     ]
    }
   ],
   "source": [
    "print(mylist2)"
   ]
  },
  {
   "cell_type": "markdown",
   "id": "bb1ad494",
   "metadata": {},
   "source": [
    "#### In mylist2 there is 2 elements named apple which mean list allows duplicate elements too! "
   ]
  },
  {
   "cell_type": "markdown",
   "id": "99df9f45",
   "metadata": {},
   "source": [
    "#### If we want to access an element in a list then we can easily mention the index of that list. Lets see-"
   ]
  },
  {
   "cell_type": "code",
   "execution_count": 11,
   "id": "6ef43019",
   "metadata": {},
   "outputs": [],
   "source": [
    "item = mylist[0]"
   ]
  },
  {
   "cell_type": "code",
   "execution_count": 12,
   "id": "33c8c38e",
   "metadata": {},
   "outputs": [
    {
     "name": "stdout",
     "output_type": "stream",
     "text": [
      "banana\n"
     ]
    }
   ],
   "source": [
    "print(item)"
   ]
  },
  {
   "cell_type": "code",
   "execution_count": 13,
   "id": "58a8d515",
   "metadata": {},
   "outputs": [],
   "source": [
    "item = mylist2[0]"
   ]
  },
  {
   "cell_type": "code",
   "execution_count": 14,
   "id": "81c39ae8",
   "metadata": {},
   "outputs": [
    {
     "name": "stdout",
     "output_type": "stream",
     "text": [
      "7\n"
     ]
    }
   ],
   "source": [
    "print(item)"
   ]
  },
  {
   "cell_type": "markdown",
   "id": "88de4838",
   "metadata": {},
   "source": [
    "#### We can also specify by using negative index. Lets check whether it working: "
   ]
  },
  {
   "cell_type": "code",
   "execution_count": 15,
   "id": "b97a6e85",
   "metadata": {},
   "outputs": [],
   "source": [
    "item = mylist2[-1]"
   ]
  },
  {
   "cell_type": "code",
   "execution_count": 16,
   "id": "d96c6177",
   "metadata": {},
   "outputs": [
    {
     "name": "stdout",
     "output_type": "stream",
     "text": [
      "apple\n"
     ]
    }
   ],
   "source": [
    "print(item)"
   ]
  },
  {
   "cell_type": "markdown",
   "id": "9b3fe078",
   "metadata": {},
   "source": [
    "#### Here minus 1 indicates the first item from the last"
   ]
  },
  {
   "cell_type": "markdown",
   "id": "6207bbd4",
   "metadata": {},
   "source": [
    "#### You also can iterate over your list. Wanna see how? Let's see-"
   ]
  },
  {
   "cell_type": "code",
   "execution_count": 17,
   "id": "e6116f4b",
   "metadata": {},
   "outputs": [
    {
     "name": "stdout",
     "output_type": "stream",
     "text": [
      "banana\n",
      "cherry\n",
      "apple\n"
     ]
    }
   ],
   "source": [
    "for i in mylist:\n",
    "    print(i)"
   ]
  },
  {
   "cell_type": "code",
   "execution_count": 18,
   "id": "748b7b4f",
   "metadata": {},
   "outputs": [
    {
     "name": "stdout",
     "output_type": "stream",
     "text": [
      "7\n",
      "True\n",
      "apple\n",
      "apple\n"
     ]
    }
   ],
   "source": [
    "for x in mylist2:\n",
    "    print(x)"
   ]
  },
  {
   "cell_type": "markdown",
   "id": "768cf55b",
   "metadata": {},
   "source": [
    "## We can check if an item is in the list or not by using simple for loop. Let's try-"
   ]
  },
  {
   "cell_type": "code",
   "execution_count": 19,
   "id": "f4a3ced4",
   "metadata": {},
   "outputs": [
    {
     "name": "stdout",
     "output_type": "stream",
     "text": [
      "yes\n"
     ]
    }
   ],
   "source": [
    "if \"banana\" in mylist:\n",
    "    print(\"yes\")\n",
    "else:\n",
    "    print(\"no\")"
   ]
  },
  {
   "cell_type": "code",
   "execution_count": 20,
   "id": "454b780c",
   "metadata": {},
   "outputs": [
    {
     "name": "stdout",
     "output_type": "stream",
     "text": [
      "no\n"
     ]
    }
   ],
   "source": [
    "if \"mango\" in mylist:\n",
    "    print(\"yes\")\n",
    "else:\n",
    "    print(\"no\")"
   ]
  },
  {
   "cell_type": "markdown",
   "id": "fa55bbc1",
   "metadata": {},
   "source": [
    "### If you want to know how many elements in your list, you can easily do it by using \"len\" method"
   ]
  },
  {
   "cell_type": "code",
   "execution_count": 21,
   "id": "cdbb1abf",
   "metadata": {},
   "outputs": [
    {
     "name": "stdout",
     "output_type": "stream",
     "text": [
      "3\n"
     ]
    }
   ],
   "source": [
    "print(len(mylist))"
   ]
  },
  {
   "cell_type": "code",
   "execution_count": 22,
   "id": "6e3a65e3",
   "metadata": {},
   "outputs": [
    {
     "name": "stdout",
     "output_type": "stream",
     "text": [
      "4\n"
     ]
    }
   ],
   "source": [
    "print(len(mylist2))"
   ]
  },
  {
   "cell_type": "markdown",
   "id": "ee09a858",
   "metadata": {},
   "source": [
    "#### You can add one more fruit in you mylist by using \"append\" method"
   ]
  },
  {
   "cell_type": "code",
   "execution_count": 23,
   "id": "f8875f10",
   "metadata": {},
   "outputs": [
    {
     "name": "stdout",
     "output_type": "stream",
     "text": [
      "['banana', 'cherry', 'apple', 'mango']\n"
     ]
    }
   ],
   "source": [
    "mylist.append(\"mango\")\n",
    "print(mylist)"
   ]
  },
  {
   "cell_type": "markdown",
   "id": "5d095652",
   "metadata": {},
   "source": [
    "### We are seeing that by using append method we can add a new item in our list but what if we want to add a item in a specific list? "
   ]
  },
  {
   "cell_type": "code",
   "execution_count": 24,
   "id": "ecc24cca",
   "metadata": {},
   "outputs": [
    {
     "name": "stdout",
     "output_type": "stream",
     "text": [
      "['banana', 'lemon', 'cherry', 'apple', 'mango']\n"
     ]
    }
   ],
   "source": [
    "mylist.insert(1, \"lemon\")\n",
    "print(mylist)"
   ]
  },
  {
   "cell_type": "markdown",
   "id": "33395cf3",
   "metadata": {},
   "source": [
    "### We did some amazing job so far. Now, think about what if we have to remove an item from our list? "
   ]
  },
  {
   "cell_type": "code",
   "execution_count": 25,
   "id": "2a98e41d",
   "metadata": {},
   "outputs": [
    {
     "name": "stdout",
     "output_type": "stream",
     "text": [
      "['banana', 'lemon', 'cherry', 'apple']\n"
     ]
    }
   ],
   "source": [
    "mylist.pop()\n",
    "print(mylist)"
   ]
  },
  {
   "cell_type": "markdown",
   "id": "08ac5ddb",
   "metadata": {},
   "source": [
    "### By using pop method we can simply delete the last item from a list. But what if we have to delete a specific item?"
   ]
  },
  {
   "cell_type": "code",
   "execution_count": 26,
   "id": "3188a1df",
   "metadata": {},
   "outputs": [
    {
     "name": "stdout",
     "output_type": "stream",
     "text": [
      "['banana', 'cherry', 'apple']\n"
     ]
    }
   ],
   "source": [
    "mylist.remove(\"lemon\")\n",
    "print(mylist)"
   ]
  },
  {
   "cell_type": "markdown",
   "id": "69b07e6f",
   "metadata": {},
   "source": [
    "### We also can remove all the item from the list by using simple clear method. Let's check-"
   ]
  },
  {
   "cell_type": "code",
   "execution_count": 27,
   "id": "22a74956",
   "metadata": {},
   "outputs": [
    {
     "name": "stdout",
     "output_type": "stream",
     "text": [
      "[]\n"
     ]
    }
   ],
   "source": [
    "mylist.clear()\n",
    "print(mylist)"
   ]
  },
  {
   "cell_type": "code",
   "execution_count": 28,
   "id": "1a9984ae",
   "metadata": {},
   "outputs": [
    {
     "name": "stdout",
     "output_type": "stream",
     "text": [
      "['banana', 'cherry', 'apple']\n"
     ]
    }
   ],
   "source": [
    "mylist = [\"banana\", \"cherry\",\"apple\"]\n",
    "print(mylist)"
   ]
  },
  {
   "cell_type": "markdown",
   "id": "96f60cb1",
   "metadata": {},
   "source": [
    "### We can reverse the item from the list by using reverse method-"
   ]
  },
  {
   "cell_type": "code",
   "execution_count": 29,
   "id": "d7f30232",
   "metadata": {},
   "outputs": [
    {
     "name": "stdout",
     "output_type": "stream",
     "text": [
      "['apple', 'cherry', 'banana']\n"
     ]
    }
   ],
   "source": [
    "mylist.reverse()\n",
    "print(mylist)"
   ]
  },
  {
   "cell_type": "code",
   "execution_count": 30,
   "id": "56f0182c",
   "metadata": {},
   "outputs": [],
   "source": [
    "list = [5,7,2,3,8,9,1,4]"
   ]
  },
  {
   "cell_type": "markdown",
   "id": "74336e61",
   "metadata": {},
   "source": [
    "### You can sort the available number from the list -"
   ]
  },
  {
   "cell_type": "code",
   "execution_count": 31,
   "id": "5d7e9896",
   "metadata": {},
   "outputs": [
    {
     "name": "stdout",
     "output_type": "stream",
     "text": [
      "[1, 2, 3, 4, 5, 7, 8, 9]\n"
     ]
    }
   ],
   "source": [
    "list.sort()\n",
    "print(list)"
   ]
  },
  {
   "cell_type": "markdown",
   "id": "75c09e6d",
   "metadata": {},
   "source": [
    "### If you want to repeat the item of the list here's a trick. "
   ]
  },
  {
   "cell_type": "code",
   "execution_count": 32,
   "id": "f38298b0",
   "metadata": {},
   "outputs": [
    {
     "name": "stdout",
     "output_type": "stream",
     "text": [
      "[0, 0, 0, 0, 0]\n"
     ]
    }
   ],
   "source": [
    "list = [0] * 5\n",
    "print(list)"
   ]
  },
  {
   "cell_type": "markdown",
   "id": "eed01317",
   "metadata": {},
   "source": [
    "### We can concate two list by using plus operator:"
   ]
  },
  {
   "cell_type": "code",
   "execution_count": 33,
   "id": "84ee0216",
   "metadata": {},
   "outputs": [],
   "source": [
    "list1 = [1,2,3,4,5,6]"
   ]
  },
  {
   "cell_type": "code",
   "execution_count": 34,
   "id": "5d6ea0a5",
   "metadata": {},
   "outputs": [],
   "source": [
    "new_list = list + list1"
   ]
  },
  {
   "cell_type": "code",
   "execution_count": 35,
   "id": "a1e2a592",
   "metadata": {},
   "outputs": [
    {
     "name": "stdout",
     "output_type": "stream",
     "text": [
      "[0, 0, 0, 0, 0, 1, 2, 3, 4, 5, 6]\n"
     ]
    }
   ],
   "source": [
    "print(new_list)"
   ]
  },
  {
   "cell_type": "markdown",
   "id": "964beb52",
   "metadata": {},
   "source": [
    "### Let's talk about slicing. Sometimes we need a new list containing several items from the mother list. Let's try to do it. "
   ]
  },
  {
   "cell_type": "code",
   "execution_count": 36,
   "id": "7b1e3f71",
   "metadata": {},
   "outputs": [],
   "source": [
    "motherlist = [1,2,3,4,5,6,7,8,9]"
   ]
  },
  {
   "cell_type": "code",
   "execution_count": 37,
   "id": "ce23f396",
   "metadata": {},
   "outputs": [],
   "source": [
    "a = motherlist[1:3]"
   ]
  },
  {
   "cell_type": "code",
   "execution_count": 38,
   "id": "96521143",
   "metadata": {},
   "outputs": [
    {
     "name": "stdout",
     "output_type": "stream",
     "text": [
      "[2, 3]\n"
     ]
    }
   ],
   "source": [
    "print(a)"
   ]
  },
  {
   "cell_type": "code",
   "execution_count": 39,
   "id": "5ce47ff4",
   "metadata": {},
   "outputs": [
    {
     "name": "stdout",
     "output_type": "stream",
     "text": [
      "[1, 2, 3]\n"
     ]
    }
   ],
   "source": [
    "print(motherlist[:3])"
   ]
  },
  {
   "cell_type": "code",
   "execution_count": 40,
   "id": "224fcbb1",
   "metadata": {},
   "outputs": [
    {
     "name": "stdout",
     "output_type": "stream",
     "text": [
      "[2, 3, 4, 5, 6, 7, 8, 9]\n"
     ]
    }
   ],
   "source": [
    "print(motherlist[1:])"
   ]
  },
  {
   "cell_type": "code",
   "execution_count": 41,
   "id": "20b62dec",
   "metadata": {},
   "outputs": [
    {
     "name": "stdout",
     "output_type": "stream",
     "text": [
      "[1, 2, 3, 4, 5, 6, 7, 8, 9]\n"
     ]
    }
   ],
   "source": [
    "print(motherlist[::1])"
   ]
  },
  {
   "cell_type": "code",
   "execution_count": 42,
   "id": "a260afd3",
   "metadata": {},
   "outputs": [
    {
     "name": "stdout",
     "output_type": "stream",
     "text": [
      "[1, 3, 5, 7, 9]\n"
     ]
    }
   ],
   "source": [
    "print(motherlist[::2])"
   ]
  },
  {
   "cell_type": "code",
   "execution_count": 43,
   "id": "d49a4279",
   "metadata": {},
   "outputs": [
    {
     "name": "stdout",
     "output_type": "stream",
     "text": [
      "[1, 4, 7]\n"
     ]
    }
   ],
   "source": [
    "print(motherlist[::3])"
   ]
  },
  {
   "cell_type": "code",
   "execution_count": 44,
   "id": "32f360d7",
   "metadata": {},
   "outputs": [
    {
     "name": "stdout",
     "output_type": "stream",
     "text": [
      "[9, 8, 7, 6, 5, 4, 3, 2, 1]\n"
     ]
    }
   ],
   "source": [
    "print(motherlist[::-1])"
   ]
  },
  {
   "cell_type": "markdown",
   "id": "a52902a1",
   "metadata": {},
   "source": [
    "### Now let's try out list comprehension. It's an elegant and fast way to creat a new list from an existing list. "
   ]
  },
  {
   "cell_type": "code",
   "execution_count": 45,
   "id": "ce1d94ac",
   "metadata": {},
   "outputs": [
    {
     "name": "stdout",
     "output_type": "stream",
     "text": [
      "[1, 2, 3, 4, 5, 6]\n",
      "[1, 4, 9, 16, 25, 36]\n"
     ]
    }
   ],
   "source": [
    "a = [1,2,3,4,5,6]\n",
    "b = [i*i for i in a ]\n",
    "print(a)\n",
    "print(b)"
   ]
  },
  {
   "cell_type": "code",
   "execution_count": null,
   "id": "ba1544ce",
   "metadata": {},
   "outputs": [],
   "source": []
  }
 ],
 "metadata": {
  "kernelspec": {
   "display_name": "Python 3",
   "language": "python",
   "name": "python3"
  },
  "language_info": {
   "codemirror_mode": {
    "name": "ipython",
    "version": 3
   },
   "file_extension": ".py",
   "mimetype": "text/x-python",
   "name": "python",
   "nbconvert_exporter": "python",
   "pygments_lexer": "ipython3",
   "version": "3.8.8"
  }
 },
 "nbformat": 4,
 "nbformat_minor": 5
}
