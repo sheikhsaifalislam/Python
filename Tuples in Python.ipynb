{
 "cells": [
  {
   "cell_type": "markdown",
   "id": "39ad9316",
   "metadata": {},
   "source": [
    "# Hello everybody, today i will try to dig out what is the Mystery of \"Tuples\"! "
   ]
  },
  {
   "cell_type": "markdown",
   "id": "16c302e6",
   "metadata": {},
   "source": [
    "##  * Tuple  is a collection data types which is ordered and immutable. It is similar to list but the main difference is tuples can not be changed after creation. "
   ]
  },
  {
   "cell_type": "markdown",
   "id": "b311012f",
   "metadata": {},
   "source": [
    "### Let's try to write something. "
   ]
  },
  {
   "cell_type": "code",
   "execution_count": 1,
   "id": "10ff3a82",
   "metadata": {},
   "outputs": [
    {
     "name": "stdout",
     "output_type": "stream",
     "text": [
      "('Max', 28, 'Boston')\n"
     ]
    }
   ],
   "source": [
    "mytuple = (\"Max\", 28, \"Boston\")\n",
    "print(mytuple)"
   ]
  },
  {
   "cell_type": "code",
   "execution_count": 2,
   "id": "ea46adf9",
   "metadata": {},
   "outputs": [
    {
     "name": "stdout",
     "output_type": "stream",
     "text": [
      "('Max', 28, 'Boston')\n"
     ]
    }
   ],
   "source": [
    "mytuple = \"Max\", 28, \"Boston\"\n",
    "print(mytuple)"
   ]
  },
  {
   "cell_type": "markdown",
   "id": "0e62aa80",
   "metadata": {},
   "source": [
    "#### In tuple you can't include only one item in it. You have to include multiple items. Otherwise it can't detect as it tuple rather it will detect as a string. Let's check it out-"
   ]
  },
  {
   "cell_type": "code",
   "execution_count": 3,
   "id": "2678e276",
   "metadata": {},
   "outputs": [
    {
     "name": "stdout",
     "output_type": "stream",
     "text": [
      "Max\n"
     ]
    }
   ],
   "source": [
    "mytuple = \"Max\"\n",
    "print(mytuple)"
   ]
  },
  {
   "cell_type": "code",
   "execution_count": 4,
   "id": "b3da6274",
   "metadata": {},
   "outputs": [
    {
     "name": "stdout",
     "output_type": "stream",
     "text": [
      "<class 'str'>\n"
     ]
    }
   ],
   "source": [
    "print(type(mytuple))"
   ]
  },
  {
   "cell_type": "code",
   "execution_count": 5,
   "id": "ede1e2b3",
   "metadata": {},
   "outputs": [
    {
     "name": "stdout",
     "output_type": "stream",
     "text": [
      "Max\n"
     ]
    }
   ],
   "source": [
    "mytuple = \"Max\", 28, \"Boston\"\n",
    "print(mytuple[0])"
   ]
  },
  {
   "cell_type": "code",
   "execution_count": 6,
   "id": "fca3843b",
   "metadata": {},
   "outputs": [
    {
     "name": "stdout",
     "output_type": "stream",
     "text": [
      "28\n"
     ]
    }
   ],
   "source": [
    "print(mytuple[1])"
   ]
  },
  {
   "cell_type": "code",
   "execution_count": 7,
   "id": "1bc50ab3",
   "metadata": {},
   "outputs": [
    {
     "name": "stdout",
     "output_type": "stream",
     "text": [
      "Max\n",
      "28\n",
      "Boston\n"
     ]
    }
   ],
   "source": [
    "for i in mytuple:\n",
    "    print(i)"
   ]
  },
  {
   "cell_type": "code",
   "execution_count": 9,
   "id": "2c04c6e6",
   "metadata": {},
   "outputs": [
    {
     "name": "stdout",
     "output_type": "stream",
     "text": [
      "yes\n"
     ]
    }
   ],
   "source": [
    "if \"Max\" in mytuple:\n",
    "    print(\"yes\")\n",
    "else:\n",
    "    print(\"no\")"
   ]
  },
  {
   "cell_type": "code",
   "execution_count": 10,
   "id": "e1b668d6",
   "metadata": {},
   "outputs": [
    {
     "name": "stdout",
     "output_type": "stream",
     "text": [
      "no\n"
     ]
    }
   ],
   "source": [
    "if \"Saif\" in mytuple:\n",
    "    print(\"yes\")\n",
    "else:\n",
    "    print(\"no\")"
   ]
  },
  {
   "cell_type": "code",
   "execution_count": 11,
   "id": "e44282a6",
   "metadata": {},
   "outputs": [],
   "source": [
    "my_tuple = ('a','p','p','l','e')"
   ]
  },
  {
   "cell_type": "code",
   "execution_count": 12,
   "id": "b3d702c2",
   "metadata": {},
   "outputs": [
    {
     "name": "stdout",
     "output_type": "stream",
     "text": [
      "5\n"
     ]
    }
   ],
   "source": [
    "print(len(my_tuple))"
   ]
  },
  {
   "cell_type": "code",
   "execution_count": 13,
   "id": "40f6626b",
   "metadata": {},
   "outputs": [
    {
     "name": "stdout",
     "output_type": "stream",
     "text": [
      "2\n"
     ]
    }
   ],
   "source": [
    "print(my_tuple.count(\"p\"))"
   ]
  },
  {
   "cell_type": "code",
   "execution_count": 14,
   "id": "1aebcb6f",
   "metadata": {},
   "outputs": [
    {
     "name": "stdout",
     "output_type": "stream",
     "text": [
      "1\n"
     ]
    }
   ],
   "source": [
    "print(my_tuple.count(\"a\"))"
   ]
  },
  {
   "cell_type": "code",
   "execution_count": 15,
   "id": "2ba3f452",
   "metadata": {},
   "outputs": [
    {
     "name": "stdout",
     "output_type": "stream",
     "text": [
      "0\n"
     ]
    }
   ],
   "source": [
    "print(my_tuple.count(\"s\"))"
   ]
  },
  {
   "cell_type": "code",
   "execution_count": 16,
   "id": "fc025798",
   "metadata": {},
   "outputs": [
    {
     "name": "stdout",
     "output_type": "stream",
     "text": [
      "1\n"
     ]
    }
   ],
   "source": [
    "print(my_tuple.index(\"p\"))"
   ]
  },
  {
   "cell_type": "code",
   "execution_count": 17,
   "id": "e47a0155",
   "metadata": {},
   "outputs": [
    {
     "name": "stdout",
     "output_type": "stream",
     "text": [
      "4\n"
     ]
    }
   ],
   "source": [
    "print(my_tuple.index(\"e\"))"
   ]
  },
  {
   "cell_type": "markdown",
   "id": "a5611be1",
   "metadata": {},
   "source": [
    "### Slicing in Tuples"
   ]
  },
  {
   "cell_type": "code",
   "execution_count": 18,
   "id": "f558a268",
   "metadata": {},
   "outputs": [],
   "source": [
    "a = (1,2,3,4,5,6,7,8,9,10)"
   ]
  },
  {
   "cell_type": "code",
   "execution_count": 19,
   "id": "3e41d0f7",
   "metadata": {},
   "outputs": [],
   "source": [
    "b = a[2:5]"
   ]
  },
  {
   "cell_type": "code",
   "execution_count": 20,
   "id": "93bd1232",
   "metadata": {},
   "outputs": [
    {
     "name": "stdout",
     "output_type": "stream",
     "text": [
      "(3, 4, 5)\n"
     ]
    }
   ],
   "source": [
    "print(b)"
   ]
  },
  {
   "cell_type": "markdown",
   "id": "2bf271c1",
   "metadata": {},
   "source": [
    "### If we don't specify the start index then it starts with the begining. "
   ]
  },
  {
   "cell_type": "code",
   "execution_count": 21,
   "id": "cf7581b9",
   "metadata": {},
   "outputs": [],
   "source": [
    "b = a[:7]"
   ]
  },
  {
   "cell_type": "code",
   "execution_count": 22,
   "id": "f5c5ee29",
   "metadata": {},
   "outputs": [
    {
     "name": "stdout",
     "output_type": "stream",
     "text": [
      "(1, 2, 3, 4, 5, 6, 7)\n"
     ]
    }
   ],
   "source": [
    "print(b)"
   ]
  },
  {
   "cell_type": "code",
   "execution_count": 23,
   "id": "407f19ad",
   "metadata": {},
   "outputs": [],
   "source": [
    "b = a[1:]"
   ]
  },
  {
   "cell_type": "code",
   "execution_count": 24,
   "id": "8b421531",
   "metadata": {},
   "outputs": [
    {
     "name": "stdout",
     "output_type": "stream",
     "text": [
      "(2, 3, 4, 5, 6, 7, 8, 9, 10)\n"
     ]
    }
   ],
   "source": [
    "print(b)"
   ]
  },
  {
   "cell_type": "code",
   "execution_count": 25,
   "id": "2e95c2c7",
   "metadata": {},
   "outputs": [
    {
     "name": "stdout",
     "output_type": "stream",
     "text": [
      "(1, 3, 5, 7, 9)\n"
     ]
    }
   ],
   "source": [
    "b = a[::2]\n",
    "print(b)"
   ]
  },
  {
   "cell_type": "markdown",
   "id": "687a4e8a",
   "metadata": {},
   "source": [
    "### We also can reverse the tuple"
   ]
  },
  {
   "cell_type": "code",
   "execution_count": 26,
   "id": "4c1a689c",
   "metadata": {},
   "outputs": [
    {
     "name": "stdout",
     "output_type": "stream",
     "text": [
      "(10, 9, 8, 7, 6, 5, 4, 3, 2, 1)\n"
     ]
    }
   ],
   "source": [
    "b = a[::-1]\n",
    "print(b)"
   ]
  },
  {
   "cell_type": "markdown",
   "id": "fbd583a9",
   "metadata": {},
   "source": [
    "### Let's see an example of unpacking!"
   ]
  },
  {
   "cell_type": "code",
   "execution_count": 27,
   "id": "80d0b968",
   "metadata": {},
   "outputs": [
    {
     "name": "stdout",
     "output_type": "stream",
     "text": [
      "Saif 26 Bagerhat\n"
     ]
    }
   ],
   "source": [
    "tuple = \"Saif\", 26, \"Bagerhat\"\n",
    "name, age, city = tuple\n",
    "print(name, age, city)"
   ]
  },
  {
   "cell_type": "markdown",
   "id": "ba71fec5",
   "metadata": {},
   "source": [
    "### We can unpack multiple elements by using star sign . Let's see it"
   ]
  },
  {
   "cell_type": "code",
   "execution_count": 28,
   "id": "033ac086",
   "metadata": {},
   "outputs": [],
   "source": [
    "tuple = (0,1,2,3,4)"
   ]
  },
  {
   "cell_type": "code",
   "execution_count": 29,
   "id": "acfd8951",
   "metadata": {},
   "outputs": [],
   "source": [
    "i1, *i2, i3 = tuple"
   ]
  },
  {
   "cell_type": "code",
   "execution_count": 30,
   "id": "e90751d5",
   "metadata": {},
   "outputs": [
    {
     "data": {
      "text/plain": [
       "0"
      ]
     },
     "execution_count": 30,
     "metadata": {},
     "output_type": "execute_result"
    }
   ],
   "source": [
    "i1"
   ]
  },
  {
   "cell_type": "code",
   "execution_count": 31,
   "id": "ff36f021",
   "metadata": {},
   "outputs": [
    {
     "data": {
      "text/plain": [
       "4"
      ]
     },
     "execution_count": 31,
     "metadata": {},
     "output_type": "execute_result"
    }
   ],
   "source": [
    "i3"
   ]
  },
  {
   "cell_type": "code",
   "execution_count": 32,
   "id": "55a9c0f0",
   "metadata": {},
   "outputs": [
    {
     "data": {
      "text/plain": [
       "[1, 2, 3]"
      ]
     },
     "execution_count": 32,
     "metadata": {},
     "output_type": "execute_result"
    }
   ],
   "source": [
    "i2"
   ]
  },
  {
   "cell_type": "markdown",
   "id": "c9b91866",
   "metadata": {},
   "source": [
    "### Tuple is much more efficient than list. let's check it out"
   ]
  },
  {
   "cell_type": "code",
   "execution_count": 34,
   "id": "2a75c123",
   "metadata": {},
   "outputs": [
    {
     "name": "stdout",
     "output_type": "stream",
     "text": [
      "96 bytes\n",
      "80 bytes\n"
     ]
    }
   ],
   "source": [
    "import sys\n",
    "mylist = [0,1,2,\"Hello\", True]\n",
    "mytuple =( 0,1,2,\"Hello\", True)\n",
    "print(sys.getsizeof(mylist), 'bytes')\n",
    "print(sys.getsizeof(mytuple), 'bytes')"
   ]
  },
  {
   "cell_type": "markdown",
   "id": "96cc0e94",
   "metadata": {},
   "source": [
    "#### List has taken larger bytes evenif those have the same elements."
   ]
  },
  {
   "cell_type": "code",
   "execution_count": null,
   "id": "1e21f05e",
   "metadata": {},
   "outputs": [],
   "source": []
  }
 ],
 "metadata": {
  "kernelspec": {
   "display_name": "Python 3",
   "language": "python",
   "name": "python3"
  },
  "language_info": {
   "codemirror_mode": {
    "name": "ipython",
    "version": 3
   },
   "file_extension": ".py",
   "mimetype": "text/x-python",
   "name": "python",
   "nbconvert_exporter": "python",
   "pygments_lexer": "ipython3",
   "version": "3.8.8"
  }
 },
 "nbformat": 4,
 "nbformat_minor": 5
}
