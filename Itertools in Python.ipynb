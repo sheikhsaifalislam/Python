{
 "cells": [
  {
   "cell_type": "markdown",
   "id": "6adf2fc4",
   "metadata": {},
   "source": [
    "## Today we are going to try what is inside itertools in python. Why we are waiting for? Let's start!!"
   ]
  },
  {
   "cell_type": "markdown",
   "id": "a3761ae7",
   "metadata": {},
   "source": [
    "### The itertools module is a collection of tools for handling iterators. \n",
    "\n",
    "### Let's begin with product!"
   ]
  },
  {
   "cell_type": "code",
   "execution_count": 7,
   "id": "c684a9ce",
   "metadata": {},
   "outputs": [
    {
     "name": "stdout",
     "output_type": "stream",
     "text": [
      "[(1, 3), (1, 4), (2, 3), (2, 4)]\n"
     ]
    }
   ],
   "source": [
    "from itertools import product\n",
    "a = [1,2]\n",
    "b = [3,4]\n",
    "prod = product(a,b)\n",
    "print(list(prod))"
   ]
  },
  {
   "cell_type": "code",
   "execution_count": 8,
   "id": "dca63279",
   "metadata": {},
   "outputs": [
    {
     "name": "stdout",
     "output_type": "stream",
     "text": [
      "[(1, 3, 1, 3), (1, 3, 1, 4), (1, 3, 2, 3), (1, 3, 2, 4), (1, 4, 1, 3), (1, 4, 1, 4), (1, 4, 2, 3), (1, 4, 2, 4), (2, 3, 1, 3), (2, 3, 1, 4), (2, 3, 2, 3), (2, 3, 2, 4), (2, 4, 1, 3), (2, 4, 1, 4), (2, 4, 2, 3), (2, 4, 2, 4)]\n"
     ]
    }
   ],
   "source": [
    "from itertools import product\n",
    "a = [1,2]\n",
    "b = [3,4]\n",
    "prod = product(a,b, repeat = 2)\n",
    "print(list(prod))"
   ]
  },
  {
   "cell_type": "code",
   "execution_count": 9,
   "id": "de32a9e6",
   "metadata": {},
   "outputs": [
    {
     "name": "stdout",
     "output_type": "stream",
     "text": [
      "[(1, 3, 1, 3), (1, 3, 2, 3), (2, 3, 1, 3), (2, 3, 2, 3)]\n"
     ]
    }
   ],
   "source": [
    "from itertools import product\n",
    "a = [1,2]\n",
    "b = [3]\n",
    "prod = product(a,b, repeat = 2)\n",
    "print(list(prod))"
   ]
  },
  {
   "cell_type": "markdown",
   "id": "842cc6d8",
   "metadata": {},
   "source": [
    "### Let's try out permutation"
   ]
  },
  {
   "cell_type": "code",
   "execution_count": 10,
   "id": "b6e0267a",
   "metadata": {},
   "outputs": [
    {
     "name": "stdout",
     "output_type": "stream",
     "text": [
      "[(1, 2, 3), (1, 3, 2), (2, 1, 3), (2, 3, 1), (3, 1, 2), (3, 2, 1)]\n"
     ]
    }
   ],
   "source": [
    "from itertools import permutations\n",
    "a = [1,2,3]\n",
    "perm = permutations(a)\n",
    "print(list(perm))"
   ]
  },
  {
   "cell_type": "code",
   "execution_count": 11,
   "id": "9e9a438e",
   "metadata": {},
   "outputs": [
    {
     "name": "stdout",
     "output_type": "stream",
     "text": [
      "[(1, 2), (1, 3), (2, 1), (2, 3), (3, 1), (3, 2)]\n"
     ]
    }
   ],
   "source": [
    "# we can select the length of the permutations\n",
    "from itertools import permutations\n",
    "a = [1,2,3]\n",
    "perm = permutations(a, 2)\n",
    "print(list(perm))"
   ]
  },
  {
   "cell_type": "markdown",
   "id": "efa248b8",
   "metadata": {},
   "source": [
    "### Then we have combination. Let's try out!"
   ]
  },
  {
   "cell_type": "code",
   "execution_count": 12,
   "id": "829d07da",
   "metadata": {},
   "outputs": [
    {
     "name": "stdout",
     "output_type": "stream",
     "text": [
      "[(1, 2), (1, 3), (1, 4), (2, 3), (2, 4), (3, 4)]\n"
     ]
    }
   ],
   "source": [
    "from itertools import combinations\n",
    "a = [1,2,3,4]\n",
    "comb = combinations(a, 2)\n",
    "print(list(comb))"
   ]
  },
  {
   "cell_type": "code",
   "execution_count": 15,
   "id": "fdb7bbae",
   "metadata": {},
   "outputs": [
    {
     "name": "stdout",
     "output_type": "stream",
     "text": [
      "[(1, 2), (1, 3), (1, 4), (2, 3), (2, 4), (3, 4)]\n",
      "[(1, 1), (1, 2), (1, 3), (1, 4), (2, 2), (2, 3), (2, 4), (3, 3), (3, 4), (4, 4)]\n"
     ]
    }
   ],
   "source": [
    "# There is no repeatation. If we wanna get repeated items then\n",
    "\n",
    "from itertools import combinations, combinations_with_replacement\n",
    "a = [1,2,3,4]\n",
    "comb = combinations(a, 2)\n",
    "print(list(comb))\n",
    "comb_wr = combinations_with_replacement(a,2)\n",
    "print(list(comb_wr))"
   ]
  },
  {
   "cell_type": "markdown",
   "id": "85d2fbfd",
   "metadata": {},
   "source": [
    "### Then we have the accumulate function. Let's try out!"
   ]
  },
  {
   "cell_type": "code",
   "execution_count": 16,
   "id": "480c02e3",
   "metadata": {},
   "outputs": [
    {
     "name": "stdout",
     "output_type": "stream",
     "text": [
      "[1, 2, 3, 4]\n",
      "[1, 3, 6, 10]\n"
     ]
    }
   ],
   "source": [
    "from itertools import accumulate\n",
    "a = [1,2,3,4]\n",
    "acc = accumulate(a)\n",
    "print(a)\n",
    "print(list(acc))"
   ]
  },
  {
   "cell_type": "code",
   "execution_count": 17,
   "id": "085ca493",
   "metadata": {},
   "outputs": [
    {
     "name": "stdout",
     "output_type": "stream",
     "text": [
      "[1, 2, 3, 4]\n",
      "[1, 2, 6, 24]\n"
     ]
    }
   ],
   "source": [
    "# By default it will compute the sum but it will also compute the multiply too!\n",
    "\n",
    "from itertools import accumulate\n",
    "import operator\n",
    "a = [1,2,3,4]\n",
    "acc = accumulate(a, func = operator.mul)\n",
    "print(a)\n",
    "print(list(acc))"
   ]
  },
  {
   "cell_type": "code",
   "execution_count": 19,
   "id": "124cdb77",
   "metadata": {},
   "outputs": [
    {
     "name": "stdout",
     "output_type": "stream",
     "text": [
      "[1, 2, 5, 3, 4]\n",
      "[1, 2, 5, 5, 5]\n"
     ]
    }
   ],
   "source": [
    "# Max will return the max comapared to the other available number\n",
    "\n",
    "from itertools import accumulate\n",
    "import operator\n",
    "a = [1,2,5,3,4]\n",
    "acc = accumulate(a, func = max)\n",
    "print(a)\n",
    "print(list(acc))"
   ]
  },
  {
   "cell_type": "markdown",
   "id": "bd65f95e",
   "metadata": {},
   "source": [
    "### Let's try out groupby function. "
   ]
  },
  {
   "cell_type": "code",
   "execution_count": 23,
   "id": "320bd9b6",
   "metadata": {},
   "outputs": [
    {
     "name": "stdout",
     "output_type": "stream",
     "text": [
      "True [1, 2]\n",
      "False [3, 4]\n"
     ]
    }
   ],
   "source": [
    "from itertools import groupby\n",
    "\n",
    "def smaller_than_3 (x):\n",
    "    return x < 3\n",
    "\n",
    "a = [1,2,3,4]\n",
    "group_obj = groupby(a, key = smaller_than_3)\n",
    "\n",
    "for key, value in group_obj:\n",
    "    print(key, list(value))"
   ]
  },
  {
   "cell_type": "code",
   "execution_count": 25,
   "id": "c153587d",
   "metadata": {},
   "outputs": [
    {
     "name": "stdout",
     "output_type": "stream",
     "text": [
      "True [1, 2]\n",
      "False [3, 4]\n"
     ]
    }
   ],
   "source": [
    "#lets try out the same thing using lamda function\n",
    "\n",
    "from itertools import groupby\n",
    "\n",
    "def smaller_than_3 (x):\n",
    "    return x < 3\n",
    "\n",
    "a = [1,2,3,4]\n",
    "group_obj = groupby(a, key = lambda x:x<3)\n",
    "\n",
    "for key, value in group_obj:\n",
    "    print(key, list(value))"
   ]
  },
  {
   "cell_type": "code",
   "execution_count": 27,
   "id": "c69b0e60",
   "metadata": {},
   "outputs": [
    {
     "name": "stdout",
     "output_type": "stream",
     "text": [
      "25 [{'name': 'saif', 'age': 25}, {'name': 'don', 'age': 25}]\n",
      "27 [{'name': 'lisa', 'age': 27}]\n",
      "28 [{'name': 'jisan', 'age': 28}]\n"
     ]
    }
   ],
   "source": [
    "from itertools import groupby\n",
    "\n",
    "persons = [{'name': 'saif', 'age': 25}, {'name': 'don', 'age': 25},\n",
    "          {'name': 'lisa', 'age':27}, {'name': 'jisan', 'age': 28}]\n",
    "\n",
    "group_obj = groupby(persons, key = lambda x: x['age'])\n",
    "\n",
    "for key, value in group_obj:\n",
    "    print(key, list(value))"
   ]
  },
  {
   "cell_type": "markdown",
   "id": "8fd6e339",
   "metadata": {},
   "source": [
    "### Let's try out count, cycle and repeat functions."
   ]
  },
  {
   "cell_type": "code",
   "execution_count": null,
   "id": "c61b3592",
   "metadata": {},
   "outputs": [],
   "source": [
    "from itertools import count, cycle, repeat\n",
    "\n",
    "a = [1,2,3]\n",
    "for i in cycle(a):\n",
    "    print(i)"
   ]
  },
  {
   "cell_type": "code",
   "execution_count": null,
   "id": "c65eee49",
   "metadata": {},
   "outputs": [],
   "source": [
    "from itertools import count, cycle, repeat\n",
    "\n",
    "a = [1,2,3]\n",
    "for i in repeat(1):\n",
    "    print(i)"
   ]
  },
  {
   "cell_type": "code",
   "execution_count": null,
   "id": "b105d266",
   "metadata": {},
   "outputs": [],
   "source": [
    "from itertools import count, cycle, repeat\n",
    "\n",
    "for i in count(10):\n",
    "    print(i)"
   ]
  },
  {
   "cell_type": "code",
   "execution_count": null,
   "id": "01113a14",
   "metadata": {},
   "outputs": [],
   "source": []
  }
 ],
 "metadata": {
  "kernelspec": {
   "display_name": "Python 3",
   "language": "python",
   "name": "python3"
  },
  "language_info": {
   "codemirror_mode": {
    "name": "ipython",
    "version": 3
   },
   "file_extension": ".py",
   "mimetype": "text/x-python",
   "name": "python",
   "nbconvert_exporter": "python",
   "pygments_lexer": "ipython3",
   "version": "3.8.8"
  }
 },
 "nbformat": 4,
 "nbformat_minor": 5
}
